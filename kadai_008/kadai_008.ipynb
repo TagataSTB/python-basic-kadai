{
  "nbformat": 4,
  "nbformat_minor": 0,
  "metadata": {
    "colab": {
      "provenance": []
    },
    "kernelspec": {
      "name": "python3",
      "display_name": "Python 3"
    },
    "language_info": {
      "name": "python"
    }
  },
  "cells": [
    {
      "cell_type": "code",
      "execution_count": 72,
      "metadata": {
        "colab": {
          "base_uri": "https://localhost:8080/"
        },
        "id": "z3vFYGGneITr",
        "outputId": "1c81494c-532e-4108-aa53-84fc2e8583f4"
      },
      "outputs": [
        {
          "output_type": "stream",
          "name": "stdout",
          "text": [
            "31\n"
          ]
        }
      ],
      "source": [
        "import random\n",
        "\n",
        "num = random.randint(1, 100)\n",
        "\n",
        "if num % 3 == 0 and num % 5 != 0:\n",
        "    print(\"Fizz\")\n",
        "elif num % 5 == 0 and num % 3 != 0:\n",
        "    print(\"Buzz\")\n",
        "elif num % 15 == 0:\n",
        "    print(\"FizzBuzz\")\n",
        "else:\n",
        "    print(num)"
      ]
    },
    {
      "cell_type": "code",
      "source": [],
      "metadata": {
        "id": "DLjWZluTfDNI"
      },
      "execution_count": null,
      "outputs": []
    }
  ]
}