{
  "nbformat": 4,
  "nbformat_minor": 0,
  "metadata": {
    "colab": {
      "provenance": []
    },
    "kernelspec": {
      "name": "python3",
      "display_name": "Python 3"
    },
    "language_info": {
      "name": "python"
    }
  },
  "cells": [
    {
      "cell_type": "code",
      "execution_count": 49,
      "metadata": {
        "colab": {
          "base_uri": "https://localhost:8080/"
        },
        "id": "BcEFTGKjEFk5",
        "outputId": "a551b87d-9f6a-42a1-acb8-1c09ea41920f"
      },
      "outputs": [
        {
          "output_type": "execute_result",
          "data": {
            "text/plain": [
              "11000.0"
            ]
          },
          "metadata": {},
          "execution_count": 49
        }
      ],
      "source": [
        "# 消費税を加えた計算結果を返す関数を記述\n",
        "def total_price(price, tax):\n",
        "    total = price * tax + price\n",
        "    return total\n",
        "\n",
        "# 第1引数に商品の金額、第2引数に消費税（10%）を設定\n",
        "total_price(10000, 0.10)"
      ]
    }
  ]
}