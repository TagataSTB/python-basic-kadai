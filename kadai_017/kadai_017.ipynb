{
  "nbformat": 4,
  "nbformat_minor": 0,
  "metadata": {
    "colab": {
      "provenance": []
    },
    "kernelspec": {
      "name": "python3",
      "display_name": "Python 3"
    },
    "language_info": {
      "name": "python"
    }
  },
  "cells": [
    {
      "cell_type": "code",
      "execution_count": 32,
      "metadata": {
        "colab": {
          "base_uri": "https://localhost:8080/"
        },
        "id": "ZngrVJvsUWVY",
        "outputId": "039cd2d1-4005-41e5-e053-868d300a92ce"
      },
      "outputs": [
        {
          "output_type": "stream",
          "name": "stdout",
          "text": [
            "A:大人\n",
            "B:大人\n",
            "C:大人ではない\n",
            "D:大人ではない\n",
            "E:大人\n"
          ]
        }
      ],
      "source": [
        "ages_dict = {\"A\": 50, \"B\": 20, \"C\": 5, \"D\": 19, \"E\": 35}\n",
        "\n",
        "class Human:\n",
        "    def __init__(self, name, age):\n",
        "        self.name = name\n",
        "        self.age = age\n",
        "\n",
        "    def check_adult(self):\n",
        "        if self.age >= 20:\n",
        "            print(f\"{self.name}:大人\")\n",
        "        else:\n",
        "            print(f\"{self.name}:大人ではない\")\n",
        "\n",
        "humans_list = []\n",
        "\n",
        "for name, age in ages_dict.items():\n",
        "    human = Human(name, age)\n",
        "    humans_list.append(human)\n",
        "\n",
        "for human in humans_list:\n",
        "    human.check_adult()"
      ]
    }
  ]
}